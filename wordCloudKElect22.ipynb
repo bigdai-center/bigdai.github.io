{
  "nbformat": 4,
  "nbformat_minor": 0,
  "metadata": {
    "colab": {
      "name": "wordCloudKElect22.ipynb",
      "provenance": [],
      "authorship_tag": "ABX9TyPzJ2M525xyoMPXLVUB1j0w",
      "include_colab_link": true
    },
    "kernelspec": {
      "name": "python3",
      "display_name": "Python 3"
    },
    "language_info": {
      "name": "python"
    }
  },
  "cells": [
    {
      "cell_type": "markdown",
      "metadata": {
        "id": "view-in-github",
        "colab_type": "text"
      },
      "source": [
        "<a href=\"https://colab.research.google.com/github/dalgual/bigdai.github.io/blob/main/wordCloudKElect22.ipynb\" target=\"_parent\"><img src=\"https://colab.research.google.com/assets/colab-badge.svg\" alt=\"Open In Colab\"/></a>"
      ]
    },
    {
      "cell_type": "markdown",
      "source": [
        "#### @ Created on Mon Mar  7 17:44:40 2022\n",
        "#### @ Author: jwoo5\n",
        "#### @ Description: Word Cloud of Korean Election 2022\n",
        "#### @ Reference: \n",
        "    1. https://c-juhwan.github.io/posts/konlpy-jdk/\n",
        "    2. https://doitgrow.com/34\n",
        "    3. https://github.com/amueller/word_cloud/blob/master/examples/simple.py\n",
        "    4. https://bit.ly/3hRkXvn"
      ],
      "metadata": {
        "id": "U-Eg7QlcI69l"
      }
    },
    {
      "cell_type": "code",
      "source": [
        "!pip install konlpy"
      ],
      "metadata": {
        "colab": {
          "base_uri": "https://localhost:8080/"
        },
        "id": "-jX7ScJAMP9T",
        "outputId": "8bd47264-5450-4008-b5c0-f802caedf0c6"
      },
      "execution_count": 2,
      "outputs": [
        {
          "output_type": "stream",
          "name": "stdout",
          "text": [
            "Collecting konlpy\n",
            "  Downloading konlpy-0.6.0-py2.py3-none-any.whl (19.4 MB)\n",
            "\u001b[K     |████████████████████████████████| 19.4 MB 6.5 MB/s \n",
            "\u001b[?25hRequirement already satisfied: numpy>=1.6 in /usr/local/lib/python3.7/dist-packages (from konlpy) (1.21.5)\n",
            "Collecting JPype1>=0.7.0\n",
            "  Downloading JPype1-1.3.0-cp37-cp37m-manylinux_2_5_x86_64.manylinux1_x86_64.whl (448 kB)\n",
            "\u001b[K     |████████████████████████████████| 448 kB 58.8 MB/s \n",
            "\u001b[?25hRequirement already satisfied: lxml>=4.1.0 in /usr/local/lib/python3.7/dist-packages (from konlpy) (4.2.6)\n",
            "Requirement already satisfied: typing-extensions in /usr/local/lib/python3.7/dist-packages (from JPype1>=0.7.0->konlpy) (3.10.0.2)\n",
            "Installing collected packages: JPype1, konlpy\n",
            "Successfully installed JPype1-1.3.0 konlpy-0.6.0\n"
          ]
        }
      ]
    },
    {
      "cell_type": "code",
      "source": [
        "!pip install -U -q PyDrive"
      ],
      "metadata": {
        "id": "AyqPZaQhPHx8"
      },
      "execution_count": 4,
      "outputs": []
    },
    {
      "cell_type": "code",
      "source": [
        "from pydrive.auth import GoogleAuth\n",
        "from pydrive.drive import GoogleDrive\n",
        "from google.colab import auth\n",
        "from oauth2client.client import GoogleCredentials"
      ],
      "metadata": {
        "id": "hC7R0LnTO-Pc"
      },
      "execution_count": 5,
      "outputs": []
    },
    {
      "cell_type": "code",
      "source": [
        "# Authenticate and create the PyDrive client.\n",
        "auth.authenticate_user()\n",
        "gauth = GoogleAuth()\n",
        "gauth.credentials = GoogleCredentials.get_application_default()\n",
        "drive = GoogleDrive(gauth)"
      ],
      "metadata": {
        "id": "boQhWCQkPObN"
      },
      "execution_count": 6,
      "outputs": []
    },
    {
      "cell_type": "code",
      "execution_count": 3,
      "metadata": {
        "id": "o1rE2OVMIX5Q"
      },
      "outputs": [],
      "source": [
        "\n",
        "from wordcloud import WordCloud\n",
        "import matplotlib.pyplot as plt\n",
        "from collections import Counter\n",
        "from konlpy.tag import Okt\n",
        "from PIL import Image\n",
        "import numpy as np\n",
        "import konlpy\n"
      ]
    },
    {
      "cell_type": "code",
      "source": [
        "input_file = \"C:\\\\Users\\jwoo5\\projects\\kelect22\\kelect03072022.csv\"\n",
        "# input_file = \"C:\\\\Users\\jwoo5\\projects\\kelect22\\kelect03092022.csv\"\n",
        "f = open(input_file, \"r\", encoding=\"utf-8\")\n",
        "text = f.read()\n"
      ],
      "metadata": {
        "id": "dzdPsWaBI5D6"
      },
      "execution_count": null,
      "outputs": []
    },
    {
      "cell_type": "code",
      "source": [
        "# Java Heap Space\n",
        "#konlpy.jvm.init_jvm(jvmpath=None, max_heap_size=1024)\n",
        "okt = Okt(max_heap_size= 1024 * 10) # 1024MB x 10 works; x6, x 12 error\n",
        "# okt = Okt()\n",
        "nouns = okt.nouns(text) # 명사만 추출\n"
      ],
      "metadata": {
        "id": "SDSql3-eOIIl"
      },
      "execution_count": null,
      "outputs": []
    },
    {
      "cell_type": "code",
      "source": [
        "words = [n for n in nouns if len(n) > 1] # 단어의 길이가 1개인 것은 제외\n",
        "\n",
        "c = Counter(words) # 위에서 얻은 words를 처리하여 단어별 빈도수 형태의 딕셔너리 데이터를 구함\n",
        "\n",
        "\n"
      ],
      "metadata": {
        "id": "-sLe9cZvOMfB"
      },
      "execution_count": null,
      "outputs": []
    },
    {
      "cell_type": "code",
      "source": [
        "wc = WordCloud(font_path='BatangChe', width=400, height=400, scale=2.0, max_font_size=250)\n",
        "gen = wc.generate_from_frequencies(c)\n",
        "plt.figure()\n",
        "\n",
        "# change bg to white: https://stackoverflow.com/questions/14088687/how-to-change-plot-background-color\n",
        "ax = plt.axes()\n",
        "ax.set_facecolor('white')\n",
        "\n",
        "plt.imshow(gen)\n",
        "\n",
        "\n"
      ],
      "metadata": {
        "id": "4QmtH5q7OQ6d"
      },
      "execution_count": null,
      "outputs": []
    }
  ]
}