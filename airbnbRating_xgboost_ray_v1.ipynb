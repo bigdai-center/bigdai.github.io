{
  "cells": [
    {
      "cell_type": "markdown",
      "metadata": {
        "id": "view-in-github",
        "colab_type": "text"
      },
      "source": [
        "<a href=\"https://colab.research.google.com/github/dalgual/bigdai.github.io/blob/main/airbnbRating_xgboost_ray_v1.ipynb\" target=\"_parent\"><img src=\"https://colab.research.google.com/assets/colab-badge.svg\" alt=\"Open In Colab\"/></a>"
      ]
    },
    {
      "cell_type": "code",
      "execution_count": null,
      "metadata": {
        "id": "b7EQ8TZiqGI0"
      },
      "outputs": [],
      "source": [
        "import numpy as np\n",
        "from time import time\n",
        "from decimal import Decimal\n",
        "\n",
        "# XGBoost on ray is needed to run this example.\n",
        "# Please refer to https://docs.ray.io/en/latest/xgboost-ray.html to install it.\n",
        "import ray\n",
        "from xgboost_ray import RayXGBClassifier, RayDMatrix, train, RayParams, predict\n",
        "import raydp\n",
        "from raydp.utils import random_split\n",
        "from raydp.spark import RayMLDataset\n",
        "#from ray import tune\n",
        "\n",
        "# data_process.py at the same directory\n",
        "#from data_process import nyc_taxi_preprocess, NYC_TRAIN_CSV\n",
        "\n"
      ]
    },
    {
      "cell_type": "code",
      "execution_count": null,
      "metadata": {
        "id": "fBJSzzOXqGI2"
      },
      "outputs": [],
      "source": [
        "# Import Spark SQL and Spark ML libraries\n",
        "from pyspark.sql.types import *\n",
        "from pyspark.sql.functions import *\n",
        "\n",
        "from pyspark.ml import Pipeline\n",
        "from pyspark.ml.feature import VectorAssembler,StringIndexer, VectorIndexer, MinMaxScaler\n",
        "from pyspark.ml.tuning import ParamGridBuilder, CrossValidator, TrainValidationSplit\n",
        "from pyspark.ml.evaluation import RegressionEvaluator, BinaryClassificationEvaluator\n",
        "from pyspark.ml.classification import LogisticRegression,DecisionTreeClassifier\n",
        "\n",
        "from pyspark.context import SparkContext\n",
        "from pyspark.sql.session import SparkSession"
      ]
    },
    {
      "cell_type": "code",
      "execution_count": null,
      "metadata": {
        "id": "VoFqydEPqGI3"
      },
      "outputs": [],
      "source": [
        "def with_benchmark(phrase, action):\n",
        "    start = time()\n",
        "    result = action()\n",
        "    end = time()\n",
        "    print('{} takes {} seconds'.format(phrase, (end - start))) #round(end - start, 2)))\n",
        "    return result    "
      ]
    },
    {
      "cell_type": "code",
      "execution_count": null,
      "metadata": {
        "id": "B0klg7LXqGI4"
      },
      "outputs": [],
      "source": [
        "# Auxiliar functions\n",
        "def equivalent_type(f):\n",
        "    if f == 'datetime64[ns]': return TimestampType()\n",
        "    elif f == 'int64': return LongType()\n",
        "    elif f == 'int32': return IntegerType()\n",
        "    elif f == 'float64': return FloatType()\n",
        "    else: return StringType()\n",
        "\n"
      ]
    },
    {
      "cell_type": "code",
      "execution_count": null,
      "metadata": {
        "id": "tk3CdadoqGI5"
      },
      "outputs": [],
      "source": [
        "def define_structure(string, format_type):\n",
        "    try: typo = equivalent_type(format_type)\n",
        "    except: typo = StringType()\n",
        "    return StructField(string, typo)\n",
        "\n"
      ]
    },
    {
      "cell_type": "code",
      "execution_count": null,
      "metadata": {
        "id": "H0EgZB6_qGI5"
      },
      "outputs": [],
      "source": [
        "# Given pandas dataframe, it will return a spark's dataframe.\n",
        "# Performance: 100MB/10 partitions\n",
        "def pandas_to_spark(pandas_df, num_partition):\n",
        "    columns = list(pandas_df.columns)\n",
        "    types = list(pandas_df.dtypes)\n",
        "    struct_list = []\n",
        "    for column, typo in zip(columns, types): \n",
        "      struct_list.append(define_structure(column, typo))\n",
        "    p_schema = StructType(struct_list)\n",
        "    return spark.createDataFrame(pandas_df, p_schema).repartition(num_partition)\n",
        "    #return sqlContext.createDataFrame(pandas_df, p_schema)"
      ]
    },
    {
      "cell_type": "code",
      "execution_count": null,
      "metadata": {
        "id": "lt_TiA_EqGI6",
        "outputId": "a2a04a79-feec-4f68-a9a7-d0b0e3fd0f5d"
      },
      "outputs": [
        {
          "name": "stderr",
          "output_type": "stream",
          "text": [
            "2022-03-28 06:25:52,179\tINFO worker.py:861 -- Connecting to existing Ray cluster at address: 172.30.0.247:6379\n"
          ]
        },
        {
          "data": {
            "text/plain": [
              "{'node_ip_address': '172.30.0.247',\n",
              " 'raylet_ip_address': '172.30.0.247',\n",
              " 'redis_address': None,\n",
              " 'object_store_address': '/tmp/ray/session_2022-03-28_03-50-58_169987_3837/sockets/plasma_store',\n",
              " 'raylet_socket_name': '/tmp/ray/session_2022-03-28_03-50-58_169987_3837/sockets/raylet',\n",
              " 'webui_url': '127.0.0.1:8265',\n",
              " 'session_dir': '/tmp/ray/session_2022-03-28_03-50-58_169987_3837',\n",
              " 'metrics_export_port': 59541,\n",
              " 'gcs_address': '172.30.0.247:6379',\n",
              " 'address': '172.30.0.247:6379',\n",
              " 'node_id': '17398847d8899ba9bde83f7f40fea8521cf7fa73c7ce3e8994dc59b0'}"
            ]
          },
          "execution_count": 72,
          "metadata": {},
          "output_type": "execute_result"
        }
      ],
      "source": [
        "# shutdown before connect to ray cluster\n",
        "# ray.shutdown()\n",
        "# ray.init(address='auto')\n",
        "\n",
        "# for the host/master node only\n",
        "# ray.init(num_cpus=2)\n",
        "\n",
        "# for the existing cluster\n",
        "ray.init(address='auto')\n"
      ]
    },
    {
      "cell_type": "code",
      "execution_count": null,
      "metadata": {
        "id": "I7EE63SdqGI8"
      },
      "outputs": [],
      "source": [
        "# After ray.init, you can use the raydp api to get a spark session\n",
        "#g4dn.2xlarge, 1 GPU, 8 vCPUs, 32 GiB of memory, 225 NVMe SSD, up to 25 Gbps network performance\n",
        "app_name = \"Airbnb Rating with RayDP\"\n",
        "num_executors = 1 #1\n",
        "cores_per_executor = 1 #4, 2, 1\n",
        "memory_per_executor = \"2GB\" # \"2GB\" \"1GB\" \"500M\""
      ]
    },
    {
      "cell_type": "code",
      "execution_count": null,
      "metadata": {
        "id": "M2R78LOHqGI9",
        "outputId": "3ed19c62-6e5e-4d8c-a340-fc23c31a47fa"
      },
      "outputs": [
        {
          "name": "stdout",
          "output_type": "stream",
          "text": [
            "\u001b[2m\u001b[36m(RayDPSparkMaster pid=14117)\u001b[0m 2022-03-28 06:25:55,767 WARN NativeCodeLoader [Thread-2]: Unable to load native-hadoop library for your platform... using builtin-java classes where applicable\n",
            "\u001b[2m\u001b[36m(RayDPSparkMaster pid=14117)\u001b[0m 2022-03-28 06:25:55,851 INFO SecurityManager [Thread-2]: Changing view acls to: ubuntu\n",
            "\u001b[2m\u001b[36m(RayDPSparkMaster pid=14117)\u001b[0m 2022-03-28 06:25:55,851 INFO SecurityManager [Thread-2]: Changing modify acls to: ubuntu\n",
            "\u001b[2m\u001b[36m(RayDPSparkMaster pid=14117)\u001b[0m 2022-03-28 06:25:55,852 INFO SecurityManager [Thread-2]: Changing view acls groups to: \n",
            "\u001b[2m\u001b[36m(RayDPSparkMaster pid=14117)\u001b[0m 2022-03-28 06:25:55,852 INFO SecurityManager [Thread-2]: Changing modify acls groups to: \n",
            "\u001b[2m\u001b[36m(RayDPSparkMaster pid=14117)\u001b[0m 2022-03-28 06:25:55,852 INFO SecurityManager [Thread-2]: SecurityManager: authentication disabled; ui acls disabled; users  with view permissions: Set(ubuntu); groups with view permissions: Set(); users  with modify permissions: Set(ubuntu); groups with modify permissions: Set()\n",
            "\u001b[2m\u001b[36m(RayDPSparkMaster pid=14117)\u001b[0m 2022-03-28 06:25:56,178 INFO Utils [Thread-2]: Successfully started service 'RAY_RPC_ENV' on port 39555.\n",
            "\u001b[2m\u001b[36m(RayDPSparkMaster pid=14117)\u001b[0m 2022-03-28 06:25:56,587 INFO RayAppMaster$RayAppMasterEndpoint [dispatcher-event-loop-3]: Registering app Airbnb Rating with RayDP\n",
            "\u001b[2m\u001b[36m(RayDPSparkMaster pid=14117)\u001b[0m 2022-03-28 06:25:56,591 INFO RayAppMaster$RayAppMasterEndpoint [dispatcher-event-loop-3]: Registered app Airbnb Rating with RayDP with ID app-20220328062556-0000\n"
          ]
        }
      ],
      "source": [
        "spark = raydp.init_spark(app_name, num_executors, cores_per_executor, memory_per_executor)\n"
      ]
    },
    {
      "cell_type": "code",
      "execution_count": null,
      "metadata": {
        "id": "39Lu3lKqqGI-"
      },
      "outputs": [],
      "source": [
        "start = time()\n",
        "    \n",
        "IS_S3 = True #True False \n",
        "file_name = 'airbnb_US.csv' #'airbnb_sample.csv'\n",
        "if IS_S3:\n",
        "    #aws s3\n",
        "    file_location = \"s3://bigdai-pub/\" + file_name\n",
        "    phrase = \"S3 Data Read Time: \"\n",
        "    #file_location = \"s3://bigdai-pub/airbnb_US.csv\"\n",
        "    #file_s3 = \"s3://bigdai-pub/airbnb-listings.csv\"\n",
        "else:\n",
        "    phrase = \"Local Data Read Time: \"\n",
        "    # local at the same directory of this code\n",
        "    file_location = \"./\" + file_name"
      ]
    },
    {
      "cell_type": "code",
      "execution_count": null,
      "metadata": {
        "id": "b4vgilamqGI-",
        "outputId": "26503ec4-0708-4307-b952-67ebb40549ed"
      },
      "outputs": [
        {
          "name": "stderr",
          "output_type": "stream",
          "text": [
            "/home/ubuntu/anaconda3/lib/python3.7/site-packages/IPython/core/interactiveshell.py:3331: DtypeWarning: Columns (19,26,31,32,40,45,46,49,50,51,52,55,56,57,58,59,60,61,62,63,67,68,69,70,72,75,76,77,78,79,80,81,85,86,89,90) have mixed types.Specify dtype option on import or set low_memory=False.\n",
            "  exec(code_obj, self.user_global_ns, self.user_ns)\n"
          ]
        },
        {
          "name": "stdout",
          "output_type": "stream",
          "text": [
            "S3 Data Read Time:  takes 11.245431184768677 seconds\n"
          ]
        }
      ],
      "source": [
        "import pandas as pd\n",
        "import pyspark.pandas as ps\n",
        "\n",
        "if IS_S3:\n",
        "    '''\n",
        "    data = ray.data.read_csv(file_location).option(\"header\", \"true\") \\\n",
        "        .option(\"inferSchema\", \"true\").option(\"strings_can_be_null\", \"true\") # (NYC_TRAIN_CSV)\n",
        "'''    \n",
        "    # [10] col_types: NULL (the default) to infer types from the data.\n",
        "    #data = ray.data.read_csv(file_location)\n",
        "    #data = ray.data.read_csv(file_location).option(arrow_csv_args: {\"strings_can_be_null\": True})\n",
        "    #data = ray.data.read_csv(file_location).option({\"strings_can_be_null\": True})\n",
        "    \n",
        "    file_location = \"s3://bigdai-pub/splits\"\n",
        "    f1=file_location+\"/airbnb_US_x00.csv\"\n",
        "    #f2=file_location+\"/airbnb_US_x01.csv\"\n",
        "    #f3=file_location+\"/airbnb_US_x02.csv\"\n",
        "    #pandasDF = pd.read_csv([f1, f2, f3], on_bad_lines='skip') #, na_filter=False) #, na_values=\"null\") #\n",
        "    pandasDF = pd.read_csv(f1, on_bad_lines='skip') #, na_filter=False) #, na_values=\"null\") #\n",
        "    data=pandas_to_spark(pandasDF, 30) #spark.createDataFrame(pandasDF) \n",
        "    \n",
        "    '''data = spark.read.format(\"csv\").option(\"header\", \"true\") \\\n",
        "        .option(\"inferSchema\", \"true\") \\\n",
        "        .load(file_location)'''\n",
        "else:\n",
        "    data = spark.read.format(\"csv\").option(\"header\", \"true\") \\\n",
        "        .option(\"inferSchema\", \"true\") \\\n",
        "        .load(file_location)\n",
        "\n",
        "end = time()\n",
        "print('{} takes {} seconds'.format(phrase, (end - start))) #round(end - start, 2)))\n"
      ]
    },
    {
      "cell_type": "code",
      "execution_count": null,
      "metadata": {
        "id": "aI1Ne6XNqGI_"
      },
      "outputs": [],
      "source": [
        "\n",
        "#data.show(10)"
      ]
    },
    {
      "cell_type": "code",
      "execution_count": null,
      "metadata": {
        "id": "3fNyA7aQqGI_"
      },
      "outputs": [],
      "source": [
        "# Set spark timezone for processing datetime\n",
        "spark.conf.set(\"spark.sql.session.timeZone\", \"UTC\")"
      ]
    },
    {
      "cell_type": "code",
      "execution_count": null,
      "metadata": {
        "id": "2I8H6GG3qGJA"
      },
      "outputs": [],
      "source": [
        "# Create a view or table\n",
        "temp_table_name = \"airbnb_sample_csv\"\n",
        "df = data\n",
        "df.createOrReplaceTempView(temp_table_name)\n"
      ]
    },
    {
      "cell_type": "code",
      "execution_count": null,
      "metadata": {
        "id": "-XiCC5yHqGJA"
      },
      "outputs": [],
      "source": [
        "# jwoo\n",
        "#csv = spark.sql(\"SELECT * FROM airbnb_sample_csv\")\n",
        "csv = data\n",
        "#csv = df.select(\"Review Scores Rating\", \"Host Listings Count\", \"Host Total Listings Count\", \"Calculated host listings count\", \"Security Deposit\", \"Cleaning Fee\" , \"Host Response Time\",\"Host Response Rate\",\"Host Acceptance Rate\",\"Property Type\",\"Room Type\",\"Price\",\"Weekly Price\",\"Monthly Price\",\"Maximum Nights\",\"Review Scores Accuracy\",\"Review Scores Cleanliness\",\"Review Scores Checkin\",\"Review Scores Communication\",\"Review Scores Location\",\"Review Scores Value\",\"Cancellation Policy\",\"Bedrooms\",\"Bathrooms\",\"Beds\",\"Extra People\",\"Minimum Nights\")\n",
        "\n",
        "#csv.show(5)"
      ]
    },
    {
      "cell_type": "code",
      "execution_count": null,
      "metadata": {
        "id": "lA7Yu1GRqGJB"
      },
      "outputs": [],
      "source": [
        "phrase= \"data engineering time: \"\n",
        "start = time()"
      ]
    },
    {
      "cell_type": "code",
      "execution_count": null,
      "metadata": {
        "id": "9VVlu3HPqGJB",
        "outputId": "7c22da72-c4d8-468b-8a37-f39ef0f453ff"
      },
      "outputs": [
        {
          "name": "stdout",
          "output_type": "stream",
          "text": [
            "+--------+--------------------+--------------+------------+--------------------+--------------------+--------------------+--------------------+-------------------+---------------------+-----+--------------------+--------------------+--------------------+--------------------+--------------------+--------------------+--------------------+--------------------+--------+--------------------+---------+----------+--------------------+--------------------+------------------+------------------+--------------------+--------------------+--------------------+--------------------+-------------------+-------------------------+--------------------+--------------------+--------------------+----------------------+----------------------------+-------------+-----+-------+-------------+-----------------+------------+-------------+------------------+-------------------+-------------+---------------+------------+---------+--------+----+--------+--------------------+-----------+-----+------------+-------------+----------------+------------+---------------+------------+--------------+--------------+----------------+----------------+---------------+---------------+---------------+----------------+---------------------+-----------------+------------+-----------+--------------------+----------------------+-------------------------+---------------------+---------------------------+----------------------+-------------------+--------------------+--------------------+-------------------+------------------------------+-----------------+--------------------+--------------------+-----------+---------+\n",
            "|      ID|         Listing Url|     Scrape ID|Last Scraped|                Name|             Summary|               Space|         Description|Experiences Offered|Neighborhood Overview|Notes|             Transit|              Access|         Interaction|         House Rules|       Thumbnail Url|          Medium Url|         Picture Url|      XL Picture Url| Host ID|            Host URL|Host Name|Host Since|       Host Location|          Host About|Host Response Time|Host Response Rate|Host Acceptance Rate|  Host Thumbnail Url|    Host Picture Url|  Host Neighbourhood|Host Listings Count|Host Total Listings Count|  Host Verifications|              Street|       Neighbourhood|Neighbourhood Cleansed|Neighbourhood Group Cleansed|         City|State|Zipcode|       Market|   Smart Location|Country Code|      Country|          Latitude|          Longitude|Property Type|      Room Type|Accommodates|Bathrooms|Bedrooms|Beds|Bed Type|           Amenities|Square Feet|Price|Weekly Price|Monthly Price|Security Deposit|Cleaning Fee|Guests Included|Extra People|Minimum Nights|Maximum Nights|Calendar Updated|Has Availability|Availability 30|Availability 60|Availability 90|Availability 365|Calendar last Scraped|Number of Reviews|First Review|Last Review|Review Scores Rating|Review Scores Accuracy|Review Scores Cleanliness|Review Scores Checkin|Review Scores Communication|Review Scores Location|Review Scores Value|             License|  Jurisdiction Names|Cancellation Policy|Calculated host listings count|Reviews per Month|         Geolocation|            Features| Listing_ID|Sentiment|\n",
            "+--------+--------------------+--------------+------------+--------------------+--------------------+--------------------+--------------------+-------------------+---------------------+-----+--------------------+--------------------+--------------------+--------------------+--------------------+--------------------+--------------------+--------------------+--------+--------------------+---------+----------+--------------------+--------------------+------------------+------------------+--------------------+--------------------+--------------------+--------------------+-------------------+-------------------------+--------------------+--------------------+--------------------+----------------------+----------------------------+-------------+-----+-------+-------------+-----------------+------------+-------------+------------------+-------------------+-------------+---------------+------------+---------+--------+----+--------+--------------------+-----------+-----+------------+-------------+----------------+------------+---------------+------------+--------------+--------------+----------------+----------------+---------------+---------------+---------------+----------------+---------------------+-----------------+------------+-----------+--------------------+----------------------+-------------------------+---------------------+---------------------------+----------------------+-------------------+--------------------+--------------------+-------------------+------------------------------+-----------------+--------------------+--------------------+-----------+---------+\n",
            "|18960792|https://www.airbn...|20170602102612|  2017-06-02|Sunny Guest Suite...|This sunny guest ...|This building has...|This sunny guest ...|               none| This is in the be...|  NaN|Of course there's...|The spaces are al...|Though we don't l...|                 NaN|https://a0.muscac...|https://a0.muscac...|https://public.op...|https://a0.muscac...| 6337837|https://www.airbn...|   Kendra|2013-05-11|New Orleans, Loui...|I'm a designer/ar...|    within an hour|               100|                null|https://a0.muscac...|https://a0.muscac...|                 NaN|                  3|                        3|email,phone,faceb...|New Orleans, LA 7...|                 NaN|          Central City|                         NaN|  New Orleans|   LA|70130.0|  New Orleans|  New Orleans, LA|          US|United States| 29.93775512913973| -90.07674375460718|    Apartment|   Private room|         2.0|        1|       0|   1|Real Bed|TV,Wireless Inter...|        NaN|   70|        null|         null|            null|          30|              2|          25|             1|          1125|      3 days ago|             NaN|             13|             38|             61|             139|           2017-06-02|                0|         NaN|        NaN|                   0|                  null|                     null|                 null|                       null|                  null|               null|City registration...|     Louisiana State|           moderate|                             1|              NaN|29.9377551291,-90...|Host Has Profile ...|        NaN|      NaN|\n",
            "|16797462|https://www.airbn...|20170510175449|  2017-05-11|Spacious studio i...|Studio apartment ...|                 NaN|Studio apartment ...|               none|                  NaN|  NaN|                 NaN|                 NaN|                 NaN|                 NaN|https://a0.muscac...|https://a0.muscac...|https://public.op...|https://a0.muscac...|30229033|https://www.airbn...|  Matthew|2015-03-29|Washington, Distr...|                 NaN|               NaN|              null|                null|https://a0.muscac...|https://a0.muscac...|         Glover Park|                  1|                        1|email,phone,faceb...|Glover Park, Wash...|         Glover Park|  Cathedral Heights...|                         NaN|   Washington|   DC|20007.0|         D.C.|   Washington, DC|          US|United States| 38.92265459486865|  -77.0732544767893|    Apartment|Entire home/apt|         2.0|        1|       0|   1|Real Bed|TV,Wireless Inter...|        NaN|  150|        null|         null|            null|        null|              1|           0|             1|             4|    4 months ago|             NaN|              0|              0|              0|               0|           2017-05-10|                1|  2017-01-22| 2017-01-22|                   1|                    10|                       10|                   10|                         10|                    10|                 10|                 NaN|DISTRICT OF COLUM...|           flexible|                             1|             0.27|38.9226545949,-77...|Host Has Profile ...|1.6797462E7|      2.0|\n",
            "|14978073|https://www.airbn...|20170502172350|  2017-05-03|Small cozy place ...|Small cozy quiet ...|                 NaN|Small cozy quiet ...|               none|                  NaN|  NaN|                 NaN|                 NaN|                 NaN|                 NaN|https://a0.muscac...|https://a0.muscac...|https://public.op...|https://a0.muscac...|94367222|https://www.airbn...|    Cesar|2016-09-09|                  US|                 NaN|               NaN|              null|                null|https://a0.muscac...|https://a0.muscac...|                 NaN|                  1|                        1|         email,phone|Long Beach, CA 90...|                 NaN|            Long Beach|                         NaN|   Long Beach|   CA|  90808|  Los Angeles|   Long Beach, CA|          US|United States| 33.81897356749168|-118.07693486238162|        House|   Private room|         2.0|        1|       1|   1|Real Bed|TV,Air conditioni...|        NaN|  150|        null|         null|            null|        null|              1|           0|             1|          1125|    7 months ago|             NaN|             24|             54|             83|              83|           2017-05-03|                0|         NaN|        NaN|                   0|                  null|                     null|                 null|                       null|                  null|               null|                 NaN|                 NaN|           flexible|                             1|              NaN|33.8189735675,-11...|Host Has Profile Pic|        NaN|      NaN|\n",
            "| 1864924|https://www.airbn...|20170401232214|  2017-04-02|  Liberty Hill Haven|Liberty Hill - Mi...|RATES BASED ON 30...|Liberty Hill - Mi...|               none|                  NaN|  NaN|Short walk to the...|                 NaN|We are available ...|No smoking on pre...|                 NaN|                 NaN|https://public.op...|                 NaN|  127367|https://www.airbn...|  Annette|2010-05-18|San Francisco, Ca...|I manage 40-50  p...|within a few hours|                99|                null|https://a0.muscac...|https://a0.muscac...|          Noe Valley|                 41|                       41|email,phone,revie...|Mission District,...|    Mission District|               Mission|                         NaN|San Francisco|   CA|94110.0|San Francisco|San Francisco, CA|          US|United States|37.756951093239806| -122.4226835248183|        House|Entire home/apt|         2.0|        1|       1|   2|Real Bed|TV,Cable TV,Inter...|        NaN|  170|        null|         5500|            null|         205|              2|          50|            30|           365|    2 months ago|             NaN|             30|             60|             90|             365|           2017-04-02|                3|  2015-05-20| 2016-08-08|                   1|                    10|                       10|                   10|                          9|                    10|                  9|                 NaN|       SAN FRANCISCO|    super_strict_30|                            25|             0.13|37.7569510932,-12...|Host Has Profile ...|  1864924.0|      2.0|\n",
            "|16614479|https://www.airbn...|20170602102612|  2017-06-02|Albert's Downtown...|Private room in a...|                 NaN|Private room in a...|               none|                  NaN|  NaN|                 NaN|                 NaN|                 NaN|- Quiet building,...|https://a0.muscac...|https://a0.muscac...|https://public.op...|https://a0.muscac...|42934323|https://www.airbn...|    Buchi|2015-08-30|                  US|                 NaN|    within an hour|               100|                null|https://a0.muscac...|https://a0.muscac...|Central Business ...|                 10|                       10| email,phone,reviews|Central Business ...|Central Business ...|  Central Business ...|                         NaN|  New Orleans|   LA|70112.0|  New Orleans|  New Orleans, LA|          US|United States| 29.95453218401765| -90.07348179298307|    Apartment|   Private room|         2.0|        1|       1|   1|Real Bed|TV,Wireless Inter...|        NaN|   85|        null|         null|            null|          70|              1|           0|             1|          1125|      6 days ago|             NaN|             19|             48|             78|              85|           2017-06-02|               14|  2017-02-17| 2017-05-04|                   1|                    10|                       10|                    9|                          9|                    10|                 10|                 NaN|Louisiana State, ...|             strict|                            10|             3.96|29.954532184,-90....|Host Is Superhost...|1.6614479E7|      2.0|\n",
            "+--------+--------------------+--------------+------------+--------------------+--------------------+--------------------+--------------------+-------------------+---------------------+-----+--------------------+--------------------+--------------------+--------------------+--------------------+--------------------+--------------------+--------------------+--------+--------------------+---------+----------+--------------------+--------------------+------------------+------------------+--------------------+--------------------+--------------------+--------------------+-------------------+-------------------------+--------------------+--------------------+--------------------+----------------------+----------------------------+-------------+-----+-------+-------------+-----------------+------------+-------------+------------------+-------------------+-------------+---------------+------------+---------+--------+----+--------+--------------------+-----------+-----+------------+-------------+----------------+------------+---------------+------------+--------------+--------------+----------------+----------------+---------------+---------------+---------------+----------------+---------------------+-----------------+------------+-----------+--------------------+----------------------+-------------------------+---------------------+---------------------------+----------------------+-------------------+--------------------+--------------------+-------------------+------------------------------+-----------------+--------------------+--------------------+-----------+---------+\n",
            "only showing top 5 rows\n",
            "\n"
          ]
        }
      ],
      "source": [
        "csv = csv.withColumn(\"Review Scores Rating\", when(col(\"Review Scores Rating\") >= 80,1).otherwise(0))\n",
        "csv = csv.withColumn(\"Host Response Rate\", csv[\"Host Response Rate\"].cast(IntegerType()))\n",
        "csv = csv.withColumn(\"Host Listings Count\", csv[\"Host Listings Count\"].cast(IntegerType()))\n",
        "csv = csv.withColumn(\"Host Total Listings Count\", csv[\"Host Total Listings Count\"].cast(IntegerType()))\n",
        "csv = csv.withColumn(\"Price\", csv[\"Price\"].cast(IntegerType()))\n",
        "csv = csv.withColumn(\"Weekly Price\", csv[\"Weekly Price\"].cast(IntegerType()))\n",
        "csv = csv.withColumn(\"Monthly Price\", csv[\"Monthly Price\"].cast(IntegerType()))\n",
        "\n",
        "csv = csv.withColumn(\"Maximum Nights\", csv[\"Maximum Nights\"].cast(IntegerType()))\n",
        "csv = csv.withColumn(\"Review Scores Accuracy\", csv[\"Review Scores Accuracy\"].cast(IntegerType()))\n",
        "csv = csv.withColumn(\"Review Scores Cleanliness\", csv[\"Review Scores Cleanliness\"].cast(IntegerType()))\n",
        "csv = csv.withColumn(\"Review Scores Checkin\", csv[\"Review Scores Checkin\"].cast(IntegerType()))\n",
        "csv = csv.withColumn(\"Review Scores Communication\", csv[\"Review Scores Communication\"].cast(IntegerType()))\n",
        "csv = csv.withColumn(\"Review Scores Location\", csv[\"Review Scores Location\"].cast(IntegerType()))\n",
        "\n",
        "csv = csv.withColumn(\"Review Scores Value\", csv[\"Review Scores Value\"].cast(IntegerType()))\n",
        "csv = csv.withColumn(\"Calculated host listings count\", csv[\"Calculated host listings count\"].cast(IntegerType()))\n",
        "csv = csv.withColumn(\"Bedrooms\", csv[\"Bedrooms\"].cast(IntegerType()))\n",
        "csv = csv.withColumn(\"Bathrooms\", csv[\"Bathrooms\"].cast(IntegerType()))\n",
        "csv = csv.withColumn(\"Beds\", csv[\"Beds\"].cast(IntegerType()))\n",
        "csv = csv.withColumn(\"Security Deposit\", csv[\"Security Deposit\"].cast(IntegerType()))\n",
        "\n",
        "csv = csv.withColumn(\"Host Acceptance Rate\", csv[\"Host Acceptance Rate\"].cast(IntegerType()))\n",
        "csv = csv.withColumn(\"Cleaning Fee\", csv[\"Cleaning Fee\"].cast(IntegerType()))\n",
        "csv = csv.withColumn(\"Extra People\", csv[\"Extra People\"].cast(IntegerType()))\n",
        "csv = csv.withColumn(\"Minimum Nights\", csv[\"Minimum Nights\"].cast(IntegerType()))\n",
        "\n",
        "csv.show(5)\n"
      ]
    },
    {
      "cell_type": "code",
      "execution_count": null,
      "metadata": {
        "id": "ljdq5iClqGJB",
        "outputId": "f18acfa3-f9c3-411f-96d7-55764b067a0e"
      },
      "outputs": [
        {
          "name": "stdout",
          "output_type": "stream",
          "text": [
            "+------------------+------------------+--------------------+-------------+---------------+-----+------------+-------------+--------------+----------------------+-------------------------+---------------------+---------------------------+----------------------+-------------------+-------------------+--------+---------+----+------------+--------------+-----+\n",
            "|Host Response Time|Host Response Rate|Host Acceptance Rate|Property Type|      Room Type|Price|Weekly Price|Monthly Price|Maximum Nights|Review Scores Accuracy|Review Scores Cleanliness|Review Scores Checkin|Review Scores Communication|Review Scores Location|Review Scores Value|Cancellation Policy|Bedrooms|Bathrooms|Beds|Extra People|Minimum Nights|label|\n",
            "+------------------+------------------+--------------------+-------------+---------------+-----+------------+-------------+--------------+----------------------+-------------------------+---------------------+---------------------------+----------------------+-------------------+-------------------+--------+---------+----+------------+--------------+-----+\n",
            "|    within an hour|               100|                null|        House|Entire home/apt|   84|        null|         null|           180|                    10|                       10|                   10|                         10|                    10|                  9|             strict|       1|        1|   4|          15|             1|    1|\n",
            "|    within an hour|               100|                null|        House|Entire home/apt|   98|        null|         null|          1125|                  null|                     null|                 null|                       null|                  null|               null|           moderate|       2|        1|   2|          20|             1|    0|\n",
            "|    within an hour|               100|                null|    Apartment|   Private room|  100|        null|         null|            15|                    10|                        9|                   10|                         10|                    10|                 10|             strict|       1|        1|   1|          50|             1|    1|\n",
            "|               NaN|              null|                null|    Apartment|   Private room|   55|        null|         null|          1125|                  null|                     null|                 null|                       null|                  null|               null|           flexible|       1|        1|   1|           0|             1|    0|\n",
            "|               NaN|              null|                null|        House|Entire home/apt|  300|        null|         null|             4|                  null|                     null|                 null|                       null|                  null|               null|           flexible|       2|        2|   2|         100|             3|    0|\n",
            "+------------------+------------------+--------------------+-------------+---------------+-----+------------+-------------+--------------+----------------------+-------------------------+---------------------+---------------------------+----------------------+-------------------+-------------------+--------+---------+----+------------+--------------+-----+\n",
            "only showing top 5 rows\n",
            "\n"
          ]
        }
      ],
      "source": [
        "csv = csv.filter(col(\"Minimum Nights\")<= 365)\n",
        "\n",
        "#data = csv.select(\"Host Response Time\",\"Host Response Rate\",\"Host Acceptance Rate\",\"Host Neighborhood\",\"Host Listings Count\",\"Host Total Listings Count\",\"Property Type\",\"Room Type\",\"Price\",\"Weekly Price\",\"Monthly Price\",\"Maximum Nights\",\"Review Scores Accuracy\",\"Review Scores Cleanliness\",\"Review Scores Checkin\",\"Review Scores Communication\",\"Review Scores Location\",\"Review Scores Value\",\"Cancellation Policy\",\"Calculated host listings count\",\"Neighborhood Cleansed\",\"Neighborhood Group Cleansed\",\"Bedrooms\",\"Bathrooms\",\"Beds\",\"Security Deposit\",\"Cleaning Fee\",\"Extra People\",\"Minimum Nights\",\"Calendar Updated\",\"Amenities\", col(\"Review Scores Rating\").alias(\"label\"))\n",
        "\n",
        "#data = csv.select(\"Host Response Time\",\"Host Response Rate\",\"Host Acceptance Rate\",\"Host Listings Count\",\"Host Total Listings Count\",\"Property Type\",\"Room Type\",\"Price\",\"Weekly Price\",\"Monthly Price\",\"Maximum Nights\",\"Review Scores Accuracy\",\"Review Scores Cleanliness\",\"Review Scores Checkin\",\"Review Scores Communication\",\"Review Scores Location\",\"Review Scores Value\",\"Cancellation Policy\",\"Calculated host listings count\",\"Bedrooms\",\"Bathrooms\",\"Beds\",\"Security Deposit\",\"Cleaning Fee\",\"Extra People\",\"Minimum Nights\",\"Calendar Updated\",\"Amenities\", col(\"Review Scores Rating\").alias(\"label\"))\n",
        "\n",
        "data = csv.select(\"Host Response Time\",\"Host Response Rate\",\"Host Acceptance Rate\",\"Property Type\",\"Room Type\",\"Price\",\"Weekly Price\",\"Monthly Price\",\"Maximum Nights\",\"Review Scores Accuracy\",\"Review Scores Cleanliness\",\"Review Scores Checkin\",\"Review Scores Communication\",\"Review Scores Location\",\"Review Scores Value\",\"Cancellation Policy\",\"Bedrooms\",\"Bathrooms\",\"Beds\",\"Extra People\",\"Minimum Nights\", col(\"Review Scores Rating\").alias(\"label\"))\n",
        "\n",
        "data.show(5)"
      ]
    },
    {
      "cell_type": "code",
      "execution_count": null,
      "metadata": {
        "id": "jbDTd05fqGJC",
        "outputId": "05b0637d-91af-41e6-89c9-7f5370e0c0dd"
      },
      "outputs": [
        {
          "name": "stdout",
          "output_type": "stream",
          "text": [
            "+------------------+------------------+--------------------+-------------+---------------+-----+------------+-------------+--------------+----------------------+-------------------------+---------------------+---------------------------+----------------------+-------------------+-------------------+--------+---------+----+------------+--------------+-----+\n",
            "|Host Response Time|Host Response Rate|Host Acceptance Rate|Property Type|      Room Type|Price|Weekly Price|Monthly Price|Maximum Nights|Review Scores Accuracy|Review Scores Cleanliness|Review Scores Checkin|Review Scores Communication|Review Scores Location|Review Scores Value|Cancellation Policy|Bedrooms|Bathrooms|Beds|Extra People|Minimum Nights|label|\n",
            "+------------------+------------------+--------------------+-------------+---------------+-----+------------+-------------+--------------+----------------------+-------------------------+---------------------+---------------------------+----------------------+-------------------+-------------------+--------+---------+----+------------+--------------+-----+\n",
            "|    within an hour|               100|                   0|        House|Entire home/apt|   84|           0|            0|           180|                    10|                       10|                   10|                         10|                    10|                  9|             strict|       1|        1|   4|          15|             1|    1|\n",
            "|    within an hour|               100|                   0|        House|Entire home/apt|   98|           0|            0|          1125|                     0|                        0|                    0|                          0|                     0|                  0|           moderate|       2|        1|   2|          20|             1|    0|\n",
            "|    within an hour|               100|                   0|    Apartment|   Private room|  100|           0|            0|            15|                    10|                        9|                   10|                         10|                    10|                 10|             strict|       1|        1|   1|          50|             1|    1|\n",
            "|               NaN|                 0|                   0|    Apartment|   Private room|   55|           0|            0|          1125|                     0|                        0|                    0|                          0|                     0|                  0|           flexible|       1|        1|   1|           0|             1|    0|\n",
            "|               NaN|                 0|                   0|        House|Entire home/apt|  300|           0|            0|             4|                     0|                        0|                    0|                          0|                     0|                  0|           flexible|       2|        2|   2|         100|             3|    0|\n",
            "+------------------+------------------+--------------------+-------------+---------------+-----+------------+-------------+--------------+----------------------+-------------------------+---------------------+---------------------------+----------------------+-------------------+-------------------+--------+---------+----+------------+--------------+-----+\n",
            "only showing top 5 rows\n",
            "\n"
          ]
        }
      ],
      "source": [
        "#data_clean = data.na.fill(value=0).na.fill(\"\")\n",
        "# jwoo\n",
        "# data_clean = data.na.fill(value=0).na.fill(\"NA\")\n",
        "data_clean = data.na.fill(value=0)\n",
        "data_clean.show(5)"
      ]
    },
    {
      "cell_type": "code",
      "execution_count": null,
      "metadata": {
        "id": "pyxcGtSxqGJC",
        "outputId": "1c560063-2e69-4cd0-dc6b-72a570cf3eb3"
      },
      "outputs": [
        {
          "data": {
            "text/plain": [
              "'stringindexer3 = StringIndexer(inputCol=\\'Bed Type\\', outputCol=\\'Bed_Type_index\\').setHandleInvalid(\"skip\") #.fit(data_clean).transform(data_clean)\\ndf3 =  stringindexer3.fit(df2).transform(df2)\\n'"
            ]
          },
          "execution_count": 85,
          "metadata": {},
          "output_type": "execute_result"
        }
      ],
      "source": [
        "# jwoo: add .setHandleInvalid(\"skip\"): or \"keep\" for null value\n",
        "stringindexer = StringIndexer(inputCol='Host Response Time', outputCol='Host_Response_index').setHandleInvalid(\"skip\") #.fit(data_clean).transform(data_clean)\n",
        "df1 =  stringindexer.fit(data_clean).transform(data_clean)\n",
        "\n",
        "stringindexer2 = StringIndexer(inputCol='Cancellation Policy', outputCol='Cancellation_index').setHandleInvalid(\"skip\") #.fit(data_clean).transform(data_clean)\n",
        "df2 =  stringindexer2.fit(df1).transform(df1)\n",
        "\n",
        "stringindexer3 = StringIndexer(inputCol='Property Type', outputCol='Property_Type_index').setHandleInvalid(\"skip\") #.fit(data_clean).transform(data_clean)\n",
        "df3 =  stringindexer3.fit(df2).transform(df2)\n",
        "\n",
        "stringindexer4 = StringIndexer(inputCol='Room Type', outputCol='Room_Type_index').setHandleInvalid(\"skip\") #.fit(data_clean).transform(data_clean)\n",
        "df4 =  stringindexer4.fit(df3).transform(df3)\n",
        "\n",
        "'''stringindexer3 = StringIndexer(inputCol='Bed Type', outputCol='Bed_Type_index').setHandleInvalid(\"skip\") #.fit(data_clean).transform(data_clean)\n",
        "df3 =  stringindexer3.fit(df2).transform(df2)\n",
        "'''\n"
      ]
    },
    {
      "cell_type": "code",
      "execution_count": null,
      "metadata": {
        "id": "L9qeGcWSqGJD",
        "outputId": "682ca9ac-a727-4f86-b0c6-9b3b74ca268f"
      },
      "outputs": [
        {
          "name": "stdout",
          "output_type": "stream",
          "text": [
            "+------------------+------------------+--------------------+-------------+---------------+-----+------------+-------------+--------------+----------------------+-------------------------+---------------------+---------------------------+----------------------+-------------------+-------------------+--------+---------+----+------------+--------------+-----+-------------------+------------------+-------------------+---------------+\n",
            "|Host Response Time|Host Response Rate|Host Acceptance Rate|Property Type|      Room Type|Price|Weekly Price|Monthly Price|Maximum Nights|Review Scores Accuracy|Review Scores Cleanliness|Review Scores Checkin|Review Scores Communication|Review Scores Location|Review Scores Value|Cancellation Policy|Bedrooms|Bathrooms|Beds|Extra People|Minimum Nights|label|Host_Response_index|Cancellation_index|Property_Type_index|Room_Type_index|\n",
            "+------------------+------------------+--------------------+-------------+---------------+-----+------------+-------------+--------------+----------------------+-------------------------+---------------------+---------------------------+----------------------+-------------------+-------------------+--------+---------+----+------------+--------------+-----+-------------------+------------------+-------------------+---------------+\n",
            "|    within an hour|               100|                   0|        House|Entire home/apt|   84|           0|            0|           180|                    10|                       10|                   10|                         10|                    10|                  9|             strict|       1|        1|   4|          15|             1|    1|                0.0|               0.0|                1.0|            0.0|\n",
            "|    within an hour|               100|                   0|        House|Entire home/apt|   98|           0|            0|          1125|                     0|                        0|                    0|                          0|                     0|                  0|           moderate|       2|        1|   2|          20|             1|    0|                0.0|               2.0|                1.0|            0.0|\n",
            "|    within an hour|               100|                   0|    Apartment|   Private room|  100|           0|            0|            15|                    10|                        9|                   10|                         10|                    10|                 10|             strict|       1|        1|   1|          50|             1|    1|                0.0|               0.0|                0.0|            1.0|\n",
            "|               NaN|                 0|                   0|    Apartment|   Private room|   55|           0|            0|          1125|                     0|                        0|                    0|                          0|                     0|                  0|           flexible|       1|        1|   1|           0|             1|    0|                1.0|               1.0|                0.0|            1.0|\n",
            "|               NaN|                 0|                   0|        House|Entire home/apt|  300|           0|            0|             4|                     0|                        0|                    0|                          0|                     0|                  0|           flexible|       2|        2|   2|         100|             3|    0|                1.0|               1.0|                1.0|            0.0|\n",
            "+------------------+------------------+--------------------+-------------+---------------+-----+------------+-------------+--------------+----------------------+-------------------------+---------------------+---------------------------+----------------------+-------------------+-------------------+--------+---------+----+------------+--------------+-----+-------------------+------------------+-------------------+---------------+\n",
            "only showing top 5 rows\n",
            "\n"
          ]
        }
      ],
      "source": [
        "df4.show(5)"
      ]
    },
    {
      "cell_type": "code",
      "execution_count": null,
      "metadata": {
        "id": "1KwxiAzgqGJD",
        "outputId": "d4c417f7-4e3f-4728-d478-d70a3b90b770"
      },
      "outputs": [
        {
          "name": "stdout",
          "output_type": "stream",
          "text": [
            "+------------------+--------------------+-----+------------+-------------+--------------+----------------------+-------------------------+---------------------+---------------------------+----------------------+-------------------+--------+---------+----+------------+--------------+-----+-------------------+------------------+-------------------+---------------+\n",
            "|Host Response Rate|Host Acceptance Rate|Price|Weekly Price|Monthly Price|Maximum Nights|Review Scores Accuracy|Review Scores Cleanliness|Review Scores Checkin|Review Scores Communication|Review Scores Location|Review Scores Value|Bedrooms|Bathrooms|Beds|Extra People|Minimum Nights|label|Host_Response_index|Cancellation_index|Property_Type_index|Room_Type_index|\n",
            "+------------------+--------------------+-----+------------+-------------+--------------+----------------------+-------------------------+---------------------+---------------------------+----------------------+-------------------+--------+---------+----+------------+--------------+-----+-------------------+------------------+-------------------+---------------+\n",
            "|               100|                   0|   84|           0|            0|           180|                    10|                       10|                   10|                         10|                    10|                  9|       1|        1|   4|          15|             1|    1|                0.0|               0.0|                1.0|            0.0|\n",
            "|               100|                   0|   98|           0|            0|          1125|                     0|                        0|                    0|                          0|                     0|                  0|       2|        1|   2|          20|             1|    0|                0.0|               2.0|                1.0|            0.0|\n",
            "|               100|                   0|  100|           0|            0|            15|                    10|                        9|                   10|                         10|                    10|                 10|       1|        1|   1|          50|             1|    1|                0.0|               0.0|                0.0|            1.0|\n",
            "|                 0|                   0|   55|           0|            0|          1125|                     0|                        0|                    0|                          0|                     0|                  0|       1|        1|   1|           0|             1|    0|                1.0|               1.0|                0.0|            1.0|\n",
            "|                 0|                   0|  300|           0|            0|             4|                     0|                        0|                    0|                          0|                     0|                  0|       2|        2|   2|         100|             3|    0|                1.0|               1.0|                1.0|            0.0|\n",
            "+------------------+--------------------+-----+------------+-------------+--------------+----------------------+-------------------------+---------------------+---------------------------+----------------------+-------------------+--------+---------+----+------------+--------------+-----+-------------------+------------------+-------------------+---------------+\n",
            "only showing top 5 rows\n",
            "\n"
          ]
        }
      ],
      "source": [
        "#jwoo\n",
        "# final_df = df4\n",
        "#cols = [\"Host Response Time\",\"Host Response Rate\",\"Host Acceptance Rate\",\"Property Type\",\"Room Type\",\"Price\",\"Weekly Price\",\"Monthly Price\",\"Maximum Nights\",\"Review Scores Accuracy\",\"Review Scores Cleanliness\",\"Review Scores Checkin\",\"Review Scores Communication\",\"Review Scores Location\",\"Review Scores Value\",\"Cancellation Policy\",\"Bedrooms\",\"Bathrooms\",\"Beds\",\"Extra People\",\"Minimum Nights\", \"label\", \"Host_Response_index\", \"Cancellation_index\", \"Property_Type_index\", \"Room_Type_index\"]\n",
        "final_df = df4.drop('Host Response Time', \"Property Type\", \"Room Type\", \"Cancellation Policy\")\n",
        "#final_df = df4.select(*cols)\n",
        "final_df.show(5)"
      ]
    },
    {
      "cell_type": "code",
      "execution_count": null,
      "metadata": {
        "id": "zm63g8qTqGJE",
        "outputId": "d2747baa-44e3-4b8a-cf1e-ed23bd37b8dd"
      },
      "outputs": [
        {
          "name": "stdout",
          "output_type": "stream",
          "text": [
            "root\n",
            " |-- Host Response Rate: integer (nullable = true)\n",
            " |-- Host Acceptance Rate: integer (nullable = true)\n",
            " |-- Price: integer (nullable = true)\n",
            " |-- Weekly Price: integer (nullable = true)\n",
            " |-- Monthly Price: integer (nullable = true)\n",
            " |-- Maximum Nights: integer (nullable = true)\n",
            " |-- Review Scores Accuracy: integer (nullable = true)\n",
            " |-- Review Scores Cleanliness: integer (nullable = true)\n",
            " |-- Review Scores Checkin: integer (nullable = true)\n",
            " |-- Review Scores Communication: integer (nullable = true)\n",
            " |-- Review Scores Location: integer (nullable = true)\n",
            " |-- Review Scores Value: integer (nullable = true)\n",
            " |-- Bedrooms: integer (nullable = true)\n",
            " |-- Bathrooms: integer (nullable = true)\n",
            " |-- Beds: integer (nullable = true)\n",
            " |-- Extra People: integer (nullable = true)\n",
            " |-- Minimum Nights: integer (nullable = true)\n",
            " |-- label: integer (nullable = false)\n",
            " |-- Host_Response_index: double (nullable = false)\n",
            " |-- Cancellation_index: double (nullable = false)\n",
            " |-- Property_Type_index: double (nullable = false)\n",
            " |-- Room_Type_index: double (nullable = false)\n",
            "\n"
          ]
        }
      ],
      "source": [
        "final_df.printSchema()"
      ]
    },
    {
      "cell_type": "code",
      "execution_count": null,
      "metadata": {
        "id": "RiAaW1H6qGJE",
        "outputId": "93667004-6d45-4ad2-caac-70502d26b694"
      },
      "outputs": [
        {
          "name": "stdout",
          "output_type": "stream",
          "text": [
            "Training Rows: 23343  Testing Rows: 9971\n"
          ]
        }
      ],
      "source": [
        "\n",
        "# Split the data\n",
        "splits = final_df.randomSplit([0.7, 0.3])\n",
        "\n",
        "# for decision tree classifier\n",
        "train_df = splits[0]\n",
        "test_df = splits[1].withColumnRenamed(\"label\", \"trueLabel\")\n",
        "\n",
        "print (\"Training Rows:\", train_df.count(), \" Testing Rows:\", test_df.count())"
      ]
    },
    {
      "cell_type": "code",
      "execution_count": null,
      "metadata": {
        "id": "Lolt1M1zqGJE",
        "outputId": "6b2a42d7-d60f-424a-89db-d8cd887f8b38"
      },
      "outputs": [
        {
          "name": "stdout",
          "output_type": "stream",
          "text": [
            "       Host Response Rate  Host Acceptance Rate  Price  Weekly Price  \\\n",
            "0                       0                     0      0             0   \n",
            "1                       0                     0      0             0   \n",
            "2                       0                     0      0             0   \n",
            "3                       0                     0      0             0   \n",
            "4                       0                     0      0             0   \n",
            "...                   ...                   ...    ...           ...   \n",
            "23338                 100                     0    850             0   \n",
            "23339                 100                     0    850             0   \n",
            "23340                 100                     0    850             0   \n",
            "23341                 100                     0    895             0   \n",
            "23342                 100                     0    975             0   \n",
            "\n",
            "       Monthly Price  Maximum Nights  Review Scores Accuracy  \\\n",
            "0                  0               3                       0   \n",
            "1                  0               3                       0   \n",
            "2                  0               4                       0   \n",
            "3                  0               7                       0   \n",
            "4                  0               7                      10   \n",
            "...              ...             ...                     ...   \n",
            "23338              0             185                       0   \n",
            "23339              0            1125                       0   \n",
            "23340              0            1125                      10   \n",
            "23341              0            1125                      10   \n",
            "23342          20000            1125                       0   \n",
            "\n",
            "       Review Scores Cleanliness  Review Scores Checkin  \\\n",
            "0                              0                      0   \n",
            "1                              0                      0   \n",
            "2                              0                      0   \n",
            "3                              0                      0   \n",
            "4                             10                     10   \n",
            "...                          ...                    ...   \n",
            "23338                          0                      0   \n",
            "23339                          0                      0   \n",
            "23340                         10                     10   \n",
            "23341                         10                     10   \n",
            "23342                          0                      0   \n",
            "\n",
            "       Review Scores Communication  ...  Bedrooms  Bathrooms  Beds  \\\n",
            "0                                0  ...         2          1     2   \n",
            "1                                0  ...         3          2     4   \n",
            "2                                0  ...         6          7     6   \n",
            "3                                0  ...         1          1     1   \n",
            "4                               10  ...         3          1     4   \n",
            "...                            ...  ...       ...        ...   ...   \n",
            "23338                            0  ...         3          3     4   \n",
            "23339                            0  ...         4          3     3   \n",
            "23340                           10  ...         4          3     4   \n",
            "23341                           10  ...         4          3    10   \n",
            "23342                            0  ...         4          3     4   \n",
            "\n",
            "       Extra People  Minimum Nights  label  Host_Response_index  \\\n",
            "0                 0               1      0                  1.0   \n",
            "1                 0               3      0                  1.0   \n",
            "2                 0               3      0                  1.0   \n",
            "3                 0               2      0                  1.0   \n",
            "4                 0               4      1                  1.0   \n",
            "...             ...             ...    ...                  ...   \n",
            "23338             0               7      0                  2.0   \n",
            "23339           150               1      0                  0.0   \n",
            "23340             0               1      1                  0.0   \n",
            "23341            70               1      1                  0.0   \n",
            "23342             0               3      0                  3.0   \n",
            "\n",
            "       Cancellation_index  Property_Type_index  Room_Type_index  \n",
            "0                     1.0                  0.0              0.0  \n",
            "1                     1.0                  1.0              0.0  \n",
            "2                     1.0                  1.0              0.0  \n",
            "3                     0.0                  0.0              0.0  \n",
            "4                     0.0                  0.0              0.0  \n",
            "...                   ...                  ...              ...  \n",
            "23338                 1.0                  1.0              0.0  \n",
            "23339                 0.0                  1.0              0.0  \n",
            "23340                 0.0                  1.0              0.0  \n",
            "23341                 0.0                  1.0              0.0  \n",
            "23342                 0.0                  1.0              0.0  \n",
            "\n",
            "[23343 rows x 22 columns]\n"
          ]
        }
      ],
      "source": [
        "train_df_pandas = train_df.toPandas()\n",
        "test_df_pandas = test_df.toPandas()\n",
        "print(train_df_pandas)\n"
      ]
    },
    {
      "cell_type": "code",
      "execution_count": null,
      "metadata": {
        "id": "SgpqPrskqGJF"
      },
      "outputs": [],
      "source": [
        "# Split data into train_dataset and test_dataset\n",
        "# train_df, test_df = random_split(data, [0.9, 0.1], 0)\n",
        "# Convert spark dataframe into ray dataset\n",
        "\n",
        "'''\n",
        "train_dataset = ray.data.from_spark(train_df)\n",
        "test_dataset = ray.data.from_spark(test_df)\n",
        "'''\n",
        "# Distributed Loading [7]\n",
        "train_dataset = RayDMatrix(train_df, label=\"label\", enable_categorical=True)\n",
        "test_dataset = RayDMatrix(test_df, label='trueLabel', enable_categorical=True)\n"
      ]
    },
    {
      "cell_type": "markdown",
      "metadata": {
        "id": "467vFk53qGJF"
      },
      "source": [
        "__ValueError__: Unknown data source type: <class 'list'> with FileType: None.\n",
        "FIX THIS by passing a supported data type. Supported data types include pandas.DataFrame, pandas.Series, np.ndarray, and CSV/Parquet file paths. If you specify a file, path, consider passing the `filetype` argument to specify the type of the source. Use the `RayFileType` enum for that. If using Modin, Dask, or Petastorm, make sure the library is installed.\n",
        "__error_\n",
        "\n",
        "```\n",
        "train_set = RayDMatrix(train_list, label='label', enable_categorical=True) # error: enable_categorical=True\n",
        "test_set = RayDMatrix(test_list, label='trueLabel', enable_categorical=True)\n",
        "```"
      ]
    },
    {
      "cell_type": "code",
      "execution_count": null,
      "metadata": {
        "id": "3-x9UJ4YqGJG",
        "outputId": "02192d2b-599b-4b01-e173-359787633baa"
      },
      "outputs": [
        {
          "data": {
            "text/plain": [
              "'\\ntrain_set = RayDMatrix(train_x, train_y, enable_categorical=True)\\ntest_set = RayDMatrix(test_x, test_y, enable_categorical=True)'"
            ]
          },
          "execution_count": 92,
          "metadata": {},
          "output_type": "execute_result"
        }
      ],
      "source": [
        "# Then convert them into DMatrix used by xgboost\n",
        "#  error: When\n",
        "'''\n",
        "(_RemoteRayXGBoostActor pid=10175) categorical type is supplied, DMatrix parameter `enable_categorical` must\n",
        "(_RemoteRayXGBoostActor pid=10175) be set to `True`. Invalid columns:Host Response Time, Property Type, Room Type, Cancellation Policy\n",
        "'''\n",
        "'''\n",
        "dtrain = RayDMatrix(train_dataset, label='label', enable_categorical=True) # error: enable_categorical=True\n",
        "dtest = RayDMatrix(test_dataset, label='trueLabel', enable_categorical=True)\n",
        "'''\n",
        "# to follow the classifier example [1]\n",
        "train_set = RayDMatrix(train_df_pandas, label='label', enable_categorical=True) # error: enable_categorical=True\n",
        "test_set = RayDMatrix(test_df_pandas, label='trueLabel', enable_categorical=True)\n",
        "\n",
        "'''\n",
        "train_set = RayDMatrix(train_x, train_y, enable_categorical=True)\n",
        "test_set = RayDMatrix(test_x, test_y, enable_categorical=True)'''"
      ]
    },
    {
      "cell_type": "code",
      "execution_count": null,
      "metadata": {
        "id": "lJ8DPmLOqGJH",
        "outputId": "fc1d1dd8-a596-4d80-9517-e46024036fe5"
      },
      "outputs": [
        {
          "name": "stdout",
          "output_type": "stream",
          "text": [
            "data engineering time:  takes 41.440245151519775 seconds\n"
          ]
        }
      ],
      "source": [
        "end=time()\n",
        "print('{} takes {} seconds'.format(phrase, (end - start))) #round(end - start, 2)))"
      ]
    },
    {
      "cell_type": "markdown",
      "metadata": {
        "id": "TfMi1McxqGJI"
      },
      "source": [
        "#### ValueError: DataFrame.dtypes for data must be int, float, bool or category.  \n",
        "When\n",
        "(RemoteRayXGBoostActor pid=1198) categorical type is supplied, DMatrix parameter `enable_categorical` must\n",
        "(RemoteRayXGBoostActor pid=1198) be set to `True`. Invalid columns:__Host Response Time, Property Type, Room Type, Cancellation Policy__\n"
      ]
    },
    {
      "cell_type": "code",
      "execution_count": null,
      "metadata": {
        "id": "kXjKXtiAqGJI",
        "outputId": "f4dc0bdc-b7ab-4b06-eef6-3f3c3cd0e406"
      },
      "outputs": [
        {
          "data": {
            "text/plain": [
              "'\\nbst = train(\\n    {\\n        \"objective\": \"binary:logistic\",\\n        \"eval_metric\": [\"logloss\", \"error\"], #, \"rmse\", \"r2\"],\\n    },\\n    train_set,\\n    evals_result=evals_result,\\n    evals=[(train_set, \"train\"), (test_set, \"test\")],\\n    verbose_eval=False,\\n    ray_params=RayParams(\\n        num_actors=2,  # Number of remote actors\\n        cpus_per_actor=1))\\n'"
            ]
          },
          "execution_count": 94,
          "metadata": {},
          "output_type": "execute_result"
        }
      ],
      "source": [
        "evals_result = {}\n",
        "\n",
        "'''\n",
        "bst = train(\n",
        "    {\n",
        "        \"objective\": \"binary:logistic\",\n",
        "        \"eval_metric\": [\"logloss\", \"error\"], #, \"rmse\", \"r2\"],\n",
        "    },\n",
        "    train_set,\n",
        "    evals_result=evals_result,\n",
        "    evals=[(train_set, \"train\"), (test_set, \"test\")],\n",
        "    verbose_eval=False,\n",
        "    ray_params=RayParams(\n",
        "        num_actors=2,  # Number of remote actors\n",
        "        cpus_per_actor=1))\n",
        "'''"
      ]
    },
    {
      "cell_type": "code",
      "execution_count": null,
      "metadata": {
        "id": "CkFtSARTqGJI",
        "outputId": "48334ab4-b5db-4cb6-afcb-d9947ea46872"
      },
      "outputs": [
        {
          "ename": "TimeoutError",
          "evalue": "Placement group creation timed out. Make sure your cluster either has enough resources or use an autoscaling cluster. Current resources available: {'memory': 7393946830.0, 'node:172.30.0.247': 0.98, 'CPU': 3.0, 'object_store_memory': 4766436472.0}, resources requested by the placement group: [{'CPU': 2.0}, {'CPU': 2.0}, {'CPU': 2.0}]",
          "output_type": "error",
          "traceback": [
            "\u001b[0;31m---------------------------------------------------------------------------\u001b[0m",
            "\u001b[0;31mTimeoutError\u001b[0m                              Traceback (most recent call last)",
            "\u001b[0;32m<ipython-input-95-c468b10e08e8>\u001b[0m in \u001b[0;36m<module>\u001b[0;34m\u001b[0m\n\u001b[0;32m----> 1\u001b[0;31m bst = with_benchmark('training time: ', lambda: train(\n\u001b[0m\u001b[1;32m      2\u001b[0m     {\n\u001b[1;32m      3\u001b[0m         \u001b[0;31m#\"tree_method\": \"gpu_hist\",\u001b[0m\u001b[0;34m\u001b[0m\u001b[0;34m\u001b[0m\u001b[0;34m\u001b[0m\u001b[0m\n\u001b[1;32m      4\u001b[0m         \u001b[0;34m\"objective\"\u001b[0m\u001b[0;34m:\u001b[0m \u001b[0;34m\"binary:logistic\"\u001b[0m\u001b[0;34m,\u001b[0m\u001b[0;34m\u001b[0m\u001b[0;34m\u001b[0m\u001b[0m\n\u001b[1;32m      5\u001b[0m         \u001b[0;34m\"eval_metric\"\u001b[0m\u001b[0;34m:\u001b[0m \u001b[0;34m[\u001b[0m\u001b[0;34m\"logloss\"\u001b[0m\u001b[0;34m,\u001b[0m \u001b[0;34m\"error\"\u001b[0m\u001b[0;34m]\u001b[0m\u001b[0;34m,\u001b[0m \u001b[0;31m#, \"rmse\", \"r2\"],\u001b[0m\u001b[0;34m\u001b[0m\u001b[0;34m\u001b[0m\u001b[0m\n",
            "\u001b[0;32m<ipython-input-68-d42e53be1bc6>\u001b[0m in \u001b[0;36mwith_benchmark\u001b[0;34m(phrase, action)\u001b[0m\n\u001b[1;32m      1\u001b[0m \u001b[0;32mdef\u001b[0m \u001b[0mwith_benchmark\u001b[0m\u001b[0;34m(\u001b[0m\u001b[0mphrase\u001b[0m\u001b[0;34m,\u001b[0m \u001b[0maction\u001b[0m\u001b[0;34m)\u001b[0m\u001b[0;34m:\u001b[0m\u001b[0;34m\u001b[0m\u001b[0;34m\u001b[0m\u001b[0m\n\u001b[1;32m      2\u001b[0m     \u001b[0mstart\u001b[0m \u001b[0;34m=\u001b[0m \u001b[0mtime\u001b[0m\u001b[0;34m(\u001b[0m\u001b[0;34m)\u001b[0m\u001b[0;34m\u001b[0m\u001b[0;34m\u001b[0m\u001b[0m\n\u001b[0;32m----> 3\u001b[0;31m     \u001b[0mresult\u001b[0m \u001b[0;34m=\u001b[0m \u001b[0maction\u001b[0m\u001b[0;34m(\u001b[0m\u001b[0;34m)\u001b[0m\u001b[0;34m\u001b[0m\u001b[0;34m\u001b[0m\u001b[0m\n\u001b[0m\u001b[1;32m      4\u001b[0m     \u001b[0mend\u001b[0m \u001b[0;34m=\u001b[0m \u001b[0mtime\u001b[0m\u001b[0;34m(\u001b[0m\u001b[0;34m)\u001b[0m\u001b[0;34m\u001b[0m\u001b[0;34m\u001b[0m\u001b[0m\n\u001b[1;32m      5\u001b[0m     \u001b[0mprint\u001b[0m\u001b[0;34m(\u001b[0m\u001b[0;34m'{} takes {} seconds'\u001b[0m\u001b[0;34m.\u001b[0m\u001b[0mformat\u001b[0m\u001b[0;34m(\u001b[0m\u001b[0mphrase\u001b[0m\u001b[0;34m,\u001b[0m \u001b[0;34m(\u001b[0m\u001b[0mend\u001b[0m \u001b[0;34m-\u001b[0m \u001b[0mstart\u001b[0m\u001b[0;34m)\u001b[0m\u001b[0;34m)\u001b[0m\u001b[0;34m)\u001b[0m \u001b[0;31m#round(end - start, 2)))\u001b[0m\u001b[0;34m\u001b[0m\u001b[0;34m\u001b[0m\u001b[0m\n",
            "\u001b[0;32m<ipython-input-95-c468b10e08e8>\u001b[0m in \u001b[0;36m<lambda>\u001b[0;34m()\u001b[0m\n\u001b[1;32m     11\u001b[0m     ray_params=RayParams(\n\u001b[1;32m     12\u001b[0m         \u001b[0mnum_actors\u001b[0m\u001b[0;34m=\u001b[0m\u001b[0;36m3\u001b[0m\u001b[0;34m,\u001b[0m  \u001b[0;31m# Number of remote actors\u001b[0m\u001b[0;34m\u001b[0m\u001b[0;34m\u001b[0m\u001b[0m\n\u001b[0;32m---> 13\u001b[0;31m         cpus_per_actor=2)) # gpus_per_actor=1)) # cpus_per_actor=1))\n\u001b[0m\u001b[1;32m     14\u001b[0m     )\n",
            "\u001b[0;32m~/anaconda3/lib/python3.7/site-packages/xgboost_ray/main.py\u001b[0m in \u001b[0;36mtrain\u001b[0;34m(params, dtrain, num_boost_round, evals, evals_result, additional_results, ray_params, _remote, *args, **kwargs)\u001b[0m\n\u001b[1;32m   1387\u001b[0m         pg = _create_placement_group(cpus_per_actor, gpus_per_actor,\n\u001b[1;32m   1388\u001b[0m                                      \u001b[0mray_params\u001b[0m\u001b[0;34m.\u001b[0m\u001b[0mresources_per_actor\u001b[0m\u001b[0;34m,\u001b[0m\u001b[0;34m\u001b[0m\u001b[0;34m\u001b[0m\u001b[0m\n\u001b[0;32m-> 1389\u001b[0;31m                                      ray_params.num_actors, placement_strategy)\n\u001b[0m\u001b[1;32m   1390\u001b[0m     \u001b[0;32melse\u001b[0m\u001b[0;34m:\u001b[0m\u001b[0;34m\u001b[0m\u001b[0;34m\u001b[0m\u001b[0m\n\u001b[1;32m   1391\u001b[0m         \u001b[0mpg\u001b[0m \u001b[0;34m=\u001b[0m \u001b[0;32mNone\u001b[0m\u001b[0;34m\u001b[0m\u001b[0;34m\u001b[0m\u001b[0m\n",
            "\u001b[0;32m~/anaconda3/lib/python3.7/site-packages/xgboost_ray/main.py\u001b[0m in \u001b[0;36m_create_placement_group\u001b[0;34m(cpus_per_actor, gpus_per_actor, resources_per_actor, num_actors, strategy)\u001b[0m\n\u001b[1;32m    842\u001b[0m                            \u001b[0;34m\"available: {}, resources requested by the \"\u001b[0m\u001b[0;34m\u001b[0m\u001b[0;34m\u001b[0m\u001b[0m\n\u001b[1;32m    843\u001b[0m                            \"placement group: {}\".format(\n\u001b[0;32m--> 844\u001b[0;31m                                ray.available_resources(), pg.bundle_specs))\n\u001b[0m\u001b[1;32m    845\u001b[0m     \u001b[0;32mreturn\u001b[0m \u001b[0mpg\u001b[0m\u001b[0;34m\u001b[0m\u001b[0;34m\u001b[0m\u001b[0m\n\u001b[1;32m    846\u001b[0m \u001b[0;34m\u001b[0m\u001b[0m\n",
            "\u001b[0;31mTimeoutError\u001b[0m: Placement group creation timed out. Make sure your cluster either has enough resources or use an autoscaling cluster. Current resources available: {'memory': 7393946830.0, 'node:172.30.0.247': 0.98, 'CPU': 3.0, 'object_store_memory': 4766436472.0}, resources requested by the placement group: [{'CPU': 2.0}, {'CPU': 2.0}, {'CPU': 2.0}]"
          ]
        }
      ],
      "source": [
        "bst = with_benchmark('training time: ', lambda: train(\n",
        "    {\n",
        "        #\"tree_method\": \"gpu_hist\",\n",
        "        \"objective\": \"binary:logistic\",\n",
        "        \"eval_metric\": [\"logloss\", \"error\"], #, \"rmse\", \"r2\"],\n",
        "    },\n",
        "    train_set,\n",
        "    evals_result=evals_result,\n",
        "    evals=[(train_set, \"train\"), (test_set, \"test\")],\n",
        "    verbose_eval=False,\n",
        "    ray_params=RayParams(\n",
        "        num_actors=3,  # Number of remote actors\n",
        "        cpus_per_actor=1)) # gpus_per_actor=1)) # cpus_per_actor=1))\n",
        "    )\n"
      ]
    },
    {
      "cell_type": "code",
      "execution_count": null,
      "metadata": {
        "id": "XU1RVsDtqGJJ"
      },
      "outputs": [],
      "source": [
        "# bst.save_model(\"air_model.xgb\")\n",
        "print(\"Final training error: {:.4f}\".format(\n",
        "    evals_result[\"train\"][\"error\"][-1]))"
      ]
    },
    {
      "cell_type": "code",
      "execution_count": null,
      "metadata": {
        "id": "P1PICyvgqGJJ"
      },
      "outputs": [],
      "source": [
        "# bst.save_model(\"air_model.xgb\")\n",
        "print(\"Final testing error: {:.4f}\".format(\n",
        "    evals_result[\"test\"][\"error\"][-1]))"
      ]
    },
    {
      "cell_type": "code",
      "execution_count": null,
      "metadata": {
        "id": "GQ949GcwqGJJ"
      },
      "outputs": [],
      "source": [
        "from xgboost_ray import predict\n",
        "\n",
        "# bst = xgb.Booster(model_file=\"air_model.xgb\")\n",
        "pred_ray = predict(bst, test_set, ray_params=RayParams(num_actors=2,  # Number of remote actors\n",
        "        cpus_per_actor=1))\n",
        "\n",
        "print(pred_ray)"
      ]
    },
    {
      "cell_type": "code",
      "execution_count": null,
      "metadata": {
        "id": "cx2bVxd1qGJJ"
      },
      "outputs": [],
      "source": [
        "raydp.stop_spark()\n",
        "ray.shutdown()"
      ]
    },
    {
      "cell_type": "markdown",
      "metadata": {
        "id": "UK3RuNHKqGJK"
      },
      "source": [
        "File Size, Partition, no_executors, cores/exe, mem/exe, max workers, Train (s), S3 Read, Data Eng\n",
        "Experiment 1: 139.1MB, 30, 1, 1 , \"2GB\", 3, 3.75 (hist), 9.82, 41.4\n"
      ]
    },
    {
      "cell_type": "markdown",
      "metadata": {
        "id": "xo_Qv86dqGJK"
      },
      "source": [
        "### References\n",
        "1. Ray Breast Cancer Example, https://github.com/ray-project/xgboost_ray \n",
        "1. Data Read API, https://docs.ray.io/en/releases-1.9.1/_modules/ray/data/read_api.html\n",
        "1. actors, https://docs.ray.io/en/latest/ray-core/actors.html\n",
        "1. https://docs.ray.io/en/ray-1.1.0/xgboost-ray.html\n",
        "1. https://sparkbyexamples.com/pyspark/convert-pyspark-dataframe-to-pandas/\n",
        "1. https://sparkbyexamples.com/pandas/pandas-select-columns-by-name-or-index/\n",
        "1. https://github.com/ray-project/xgboost_ray#distributed-data-loading\n",
        "1. https://www.anyscale.com/blog/building-an-end-to-end-ml-pipeline-using-mars-and-xgboost-on-ray\n",
        "1. Evaluation Example in Dask, https://docs.ray.io/en/latest/ray-core/examples/dask_xgboost/dask_xgboost.html\n",
        "1. Read a CSV or other delimited file with Arrow, https://arrow.apache.org/docs/r/reference/read_delim_arrow.html"
      ]
    },
    {
      "cell_type": "code",
      "execution_count": null,
      "metadata": {
        "id": "OWljK7fHqGJK"
      },
      "outputs": [],
      "source": [
        ""
      ]
    }
  ],
  "metadata": {
    "kernelspec": {
      "display_name": "Python 3",
      "language": "python",
      "name": "python3"
    },
    "language_info": {
      "codemirror_mode": {
        "name": "ipython",
        "version": 3
      },
      "file_extension": ".py",
      "mimetype": "text/x-python",
      "name": "python",
      "nbconvert_exporter": "python",
      "pygments_lexer": "ipython3",
      "version": "3.7.7"
    },
    "colab": {
      "name": "airbnbRating_xgboost_ray_v1.ipynb",
      "provenance": [],
      "include_colab_link": true
    }
  },
  "nbformat": 4,
  "nbformat_minor": 0
}